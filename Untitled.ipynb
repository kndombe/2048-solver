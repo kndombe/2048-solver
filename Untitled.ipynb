{
 "cells": [
  {
   "cell_type": "code",
   "execution_count": 4,
   "metadata": {},
   "outputs": [
    {
     "ename": "ModuleNotFoundError",
     "evalue": "No module named 'eval'",
     "output_type": "error",
     "traceback": [
      "\u001b[1;31m---------------------------------------------------------------------------\u001b[0m",
      "\u001b[1;31mModuleNotFoundError\u001b[0m                       Traceback (most recent call last)",
      "\u001b[1;32m<ipython-input-4-96cc9c4c2221>\u001b[0m in \u001b[0;36m<module>\u001b[1;34m\u001b[0m\n\u001b[1;32m----> 1\u001b[1;33m \u001b[1;32mfrom\u001b[0m \u001b[0meval\u001b[0m \u001b[1;32mimport\u001b[0m \u001b[1;33m*\u001b[0m\u001b[1;33m\u001b[0m\u001b[1;33m\u001b[0m\u001b[0m\n\u001b[0m\u001b[0;32m      2\u001b[0m \u001b[1;32mfrom\u001b[0m \u001b[0mgame\u001b[0m \u001b[1;32mimport\u001b[0m \u001b[0mGame\u001b[0m\u001b[1;33m\u001b[0m\u001b[1;33m\u001b[0m\u001b[0m\n",
      "\u001b[1;31mModuleNotFoundError\u001b[0m: No module named 'eval'"
     ]
    }
   ],
   "source": [
    "from eval import *\n",
    "from game import Game"
   ]
  },
  {
   "cell_type": "code",
   "execution_count": null,
   "metadata": {},
   "outputs": [],
   "source": [
    "def render(game):\n",
    "        board = game.board\n",
    "        html = '''<h1>Score: {}</h1>'''.format(game.score)\n",
    "        table = '''<table style=\"border: 5px solid black;\">{}</table>'''\n",
    "        td = '''<td style=\"border:3px solid black; text-align:center;\"\n",
    "         width=\"%s\" height=\"%s\">{}</td>''' % (40, 40)\n",
    "        content = ''\n",
    "        for row in range(game.size):\n",
    "            content += '''<tr>'''\n",
    "            for col in range(game.size):\n",
    "                elem = int(board[row, col])\n",
    "                content += td.format(elem if elem else \"\")\n",
    "            content += '''</tr>'''\n",
    "        html += table.format(content)\n",
    "        return html\n",
    "\n",
    "def display(game):\n",
    "    if 'ipykernel' in sys.modules:\n",
    "        source = render(game)\n",
    "        ipy_display(HTML(source))\n",
    "    else:\n",
    "        print(\"Warning: since it's not in ipykernel, \"\n",
    "              \"it will show the command line version.\")\n",
    "        print(game)"
   ]
  },
  {
   "cell_type": "code",
   "execution_count": 1,
   "metadata": {},
   "outputs": [
    {
     "ename": "NameError",
     "evalue": "name 'Game' is not defined",
     "output_type": "error",
     "traceback": [
      "\u001b[1;31m---------------------------------------------------------------------------\u001b[0m",
      "\u001b[1;31mNameError\u001b[0m                                 Traceback (most recent call last)",
      "\u001b[1;32m<ipython-input-1-2590c14ce6fe>\u001b[0m in \u001b[0;36m<module>\u001b[1;34m\u001b[0m\n\u001b[1;32m----> 1\u001b[1;33m \u001b[0mg\u001b[0m \u001b[1;33m=\u001b[0m \u001b[0mGame\u001b[0m\u001b[1;33m(\u001b[0m\u001b[1;33m)\u001b[0m\u001b[1;33m\u001b[0m\u001b[1;33m\u001b[0m\u001b[0m\n\u001b[0m\u001b[0;32m      2\u001b[0m \u001b[0mturn\u001b[0m \u001b[1;33m=\u001b[0m \u001b[1;36m0\u001b[0m\u001b[1;33m\u001b[0m\u001b[1;33m\u001b[0m\u001b[0m\n\u001b[0;32m      3\u001b[0m \u001b[1;32mwhile\u001b[0m \u001b[1;32mTrue\u001b[0m\u001b[1;33m:\u001b[0m\u001b[1;33m\u001b[0m\u001b[1;33m\u001b[0m\u001b[0m\n\u001b[0;32m      4\u001b[0m     \u001b[0mprint\u001b[0m\u001b[1;33m(\u001b[0m\u001b[1;34mf\"Turn {turn}!\"\u001b[0m\u001b[1;33m)\u001b[0m\u001b[1;33m\u001b[0m\u001b[1;33m\u001b[0m\u001b[0m\n\u001b[0;32m      5\u001b[0m     \u001b[0mprint\u001b[0m\u001b[1;33m(\u001b[0m\u001b[0mg\u001b[0m\u001b[1;33m.\u001b[0m\u001b[0mboard\u001b[0m\u001b[1;33m)\u001b[0m\u001b[1;33m\u001b[0m\u001b[1;33m\u001b[0m\u001b[0m\n",
      "\u001b[1;31mNameError\u001b[0m: name 'Game' is not defined"
     ]
    }
   ],
   "source": [
    "g = Game()\n",
    "turn = 0\n",
    "while True:\n",
    "    print(f\"Turn {turn}!\")\n",
    "    print(g.board)\n",
    "    f = FeatureExtractor(g.board)\n",
    "    print(f.getfeatures())\n",
    "    score = calculate_score(f.getfeatures())\n",
    "    if(score == 0):\n",
    "        print(f\"You lost on turn {turn} with a score of {score}!\")\n",
    "        break\n",
    "    prev_board = g.board.copy()\n",
    "    results = eval_options(g.board, 0, 2)\n",
    "    g.move(results[1])\n",
    "    print('Choosing {} \\n'.format(['left','down','right','up'][results[1]]))\n",
    "    if np.array_equal(prev_board, g.board):\n",
    "        print(\"Hi\")\n",
    "    turn += 1\n",
    "display(g)"
   ]
  },
  {
   "cell_type": "code",
   "execution_count": null,
   "metadata": {},
   "outputs": [],
   "source": []
  }
 ],
 "metadata": {
  "kernelspec": {
   "display_name": "Python 3",
   "language": "python",
   "name": "python3"
  },
  "language_info": {
   "codemirror_mode": {
    "name": "ipython",
    "version": 3
   },
   "file_extension": ".py",
   "mimetype": "text/x-python",
   "name": "python",
   "nbconvert_exporter": "python",
   "pygments_lexer": "ipython3",
   "version": "3.7.3"
  }
 },
 "nbformat": 4,
 "nbformat_minor": 2
}
